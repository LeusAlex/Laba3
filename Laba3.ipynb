{
 "cells": [
  {
   "cell_type": "code",
   "execution_count": 2,
   "id": "af3b2c54",
   "metadata": {},
   "outputs": [],
   "source": [
    "def hanoi(n, source, target, auxiliary):\n",
    "    if n > 0:\n",
    "        # Перемещаем n-1 диск с исходного стержня на вспомогательный стержень\n",
    "        hanoi(n-1, source, auxiliary, target)\n",
    "        \n",
    "        # Перемещаем самый большой диск с исходного стержня на целевой стержень\n",
    "        print(f\"Переместить диск {n} с {source} на {target}\")\n",
    "        \n",
    "        # Перемещаем n-1 диск с вспомогательного стержня на целевой стержень\n",
    "        hanoi(n-1, auxiliary, target, source)"
   ]
  },
  {
   "cell_type": "code",
   "execution_count": 3,
   "id": "9d8c67ac",
   "metadata": {},
   "outputs": [
    {
     "name": "stdout",
     "output_type": "stream",
     "text": [
      "Введите количество дисков: 4\n",
      "Переместить диск 1 с A на B\n",
      "Переместить диск 2 с A на C\n",
      "Переместить диск 1 с B на C\n",
      "Переместить диск 3 с A на B\n",
      "Переместить диск 1 с C на A\n",
      "Переместить диск 2 с C на B\n",
      "Переместить диск 1 с A на B\n",
      "Переместить диск 4 с A на C\n",
      "Переместить диск 1 с B на C\n",
      "Переместить диск 2 с B на A\n",
      "Переместить диск 1 с C на A\n",
      "Переместить диск 3 с B на C\n",
      "Переместить диск 1 с A на B\n",
      "Переместить диск 2 с A на C\n",
      "Переместить диск 1 с B на C\n"
     ]
    }
   ],
   "source": [
    "num_of_disks = int(input(\"Введите количество дисков: \"))\n",
    "hanoi(num_of_disks, 'A', 'C', 'B')"
   ]
  }
 ],
 "metadata": {
  "kernelspec": {
   "display_name": "Python 3 (ipykernel)",
   "language": "python",
   "name": "python3"
  },
  "language_info": {
   "codemirror_mode": {
    "name": "ipython",
    "version": 3
   },
   "file_extension": ".py",
   "mimetype": "text/x-python",
   "name": "python",
   "nbconvert_exporter": "python",
   "pygments_lexer": "ipython3",
   "version": "3.11.5"
  }
 },
 "nbformat": 4,
 "nbformat_minor": 5
}
